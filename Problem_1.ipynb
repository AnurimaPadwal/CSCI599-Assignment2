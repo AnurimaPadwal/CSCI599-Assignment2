{
 "cells": [
  {
   "cell_type": "markdown",
   "metadata": {},
   "source": [
    "# Problem 1: Language Modeling with RNNs\n",
    "* <b>Learning Objective:</b> In this problem, you are going to implement simple recurrent neural networks to deeply understand how RNNs works.\n",
    "* <b>Provided Code:</b> We provide the skeletons of classes you need to complete. Forward checking and gradient checkings are provided for verifying your implementation as well.\n",
    "* <b>TODOs:</b> you will firstly implement a vanilla RNN to get warm up, and then implement an LSTM to train a model that can generate text using your own text source (novel, lyrics etc)."
   ]
  },
  {
   "cell_type": "code",
   "execution_count": 1,
   "metadata": {},
   "outputs": [],
   "source": [
    "from lib.rnn import *\n",
    "from lib.layer_utils import *\n",
    "from lib.grad_check import *\n",
    "from lib.optim import *\n",
    "from lib.train import *\n",
    "import numpy as np\n",
    "import matplotlib.pyplot as plt\n",
    "\n",
    "%matplotlib inline\n",
    "plt.rcParams['figure.figsize'] = (10.0, 8.0) # set default size of plots\n",
    "plt.rcParams['image.interpolation'] = 'nearest'\n",
    "plt.rcParams['image.cmap'] = 'gray'\n",
    "\n",
    "# for auto-reloading external modules\n",
    "# see http://stackoverflow.com/questions/1907993/autoreload-of-modules-in-ipython\n",
    "%load_ext autoreload\n",
    "%autoreload 2"
   ]
  },
  {
   "cell_type": "markdown",
   "metadata": {},
   "source": [
    "# Recurrent Neural Networks\n",
    "We will use recurrent neural network (RNN) language models for text generation.\n",
    "\n",
    "Please complete the TODOs in the function `VanillaRNN` of the file `lib/layer_utils.py` which should contain implementations of different layer types that are needed for recurrent neural networks.\n",
    "\n",
    "And then, complete the TODOs in the file `lib/rnn.py` which uses these layers to implement an text generation model."
   ]
  },
  {
   "cell_type": "markdown",
   "metadata": {},
   "source": [
    "# Vanilla RNN: step forward\n",
    "Open the file `lib/layer_utils.py`. Implement the forward and backward passes for different types of layers that are commonly used in recurrent neural networks.\n",
    "\n",
    "First complete the implementation of the function `step_forward` which implements the forward pass for a single timestep of a vanilla recurrent neural network.\n",
    "\n",
    "After doing so run the following code. You should see errors less than 1e-8."
   ]
  },
  {
   "cell_type": "code",
   "execution_count": 2,
   "metadata": {},
   "outputs": [
    {
     "name": "stdout",
     "output_type": "stream",
     "text": [
      "next_h error:  6.292421426471037e-09\n"
     ]
    }
   ],
   "source": [
    "%reload_ext autoreload\n",
    "\n",
    "N, D, H = 3, 10, 4\n",
    "\n",
    "rnn = VanillaRNN(D, H, init_scale=0.02, name=\"rnn_test\")\n",
    "x = np.linspace(-0.4, 0.7, num=N*D).reshape(N, D)\n",
    "prev_h = np.linspace(-0.2, 0.5, num=N*H).reshape(N, H)\n",
    "\n",
    "rnn.params[rnn.wx_name] = np.linspace(-0.1, 0.9, num=D*H).reshape(D, H)\n",
    "rnn.params[rnn.wh_name] = np.linspace(-0.3, 0.7, num=H*H).reshape(H, H)\n",
    "rnn.params[rnn.b_name] = np.linspace(-0.2, 0.4, num=H)\n",
    "\n",
    "next_h, _ = rnn.step_forward(x, prev_h)\n",
    "expected_next_h = np.asarray([\n",
    "  [-0.58172089, -0.50182032, -0.41232771, -0.31410098],\n",
    "  [ 0.66854692,  0.79562378,  0.87755553,  0.92795967],\n",
    "  [ 0.97934501,  0.99144213,  0.99646691,  0.99854353]])\n",
    "\n",
    "print('next_h error: ', rel_error(expected_next_h, next_h))"
   ]
  },
  {
   "cell_type": "markdown",
   "metadata": {},
   "source": [
    "# Vanilla RNN: step backward\n",
    "In the `VanillaRNN` class in the file `lib/layer_utils.py` complete the `step_backward` function.\n",
    "\n",
    "After doing so run the following to numerically gradient check the implementation. You should see errors less than `1e-8`."
   ]
  },
  {
   "cell_type": "code",
   "execution_count": 3,
   "metadata": {},
   "outputs": [
    {
     "name": "stdout",
     "output_type": "stream",
     "text": [
      "dx error:  5.473855898318782e-10\n",
      "dprev_h error:  3.2228854474240573e-10\n",
      "dWx error:  1.264200416692046e-10\n",
      "dWh error:  3.1863456358952086e-10\n",
      "db error:  1.655233896888798e-11\n"
     ]
    }
   ],
   "source": [
    "%reload_ext autoreload\n",
    "\n",
    "np.random.seed(231)\n",
    "N, D, H = 4, 5, 6\n",
    "\n",
    "rnn = VanillaRNN(D, H, init_scale=0.02, name=\"rnn_test\")\n",
    "\n",
    "x = np.random.randn(N, D)\n",
    "h = np.random.randn(N, H)\n",
    "Wx = np.random.randn(D, H)\n",
    "Wh = np.random.randn(H, H)\n",
    "b = np.random.randn(H)\n",
    "\n",
    "rnn.params[rnn.wx_name] = Wx\n",
    "rnn.params[rnn.wh_name] = Wh\n",
    "rnn.params[rnn.b_name] = b\n",
    "\n",
    "out, meta = rnn.step_forward(x, h)\n",
    "\n",
    "dnext_h = np.random.randn(*out.shape)\n",
    "\n",
    "dx_num = eval_numerical_gradient_array(lambda x: rnn.step_forward(x, h)[0], x, dnext_h)\n",
    "dprev_h_num = eval_numerical_gradient_array(lambda h: rnn.step_forward(x, h)[0], h, dnext_h)\n",
    "dWx_num = eval_numerical_gradient_array(lambda Wx: rnn.step_forward(x, h)[0], Wx, dnext_h)\n",
    "dWh_num = eval_numerical_gradient_array(lambda Wh: rnn.step_forward(x, h)[0], Wh, dnext_h)\n",
    "db_num = eval_numerical_gradient_array(lambda b: rnn.step_forward(x, h)[0], b, dnext_h)\n",
    "\n",
    "dx, dprev_h, dWx, dWh, db = rnn.step_backward(dnext_h, meta)\n",
    "\n",
    "print('dx error: ', rel_error(dx_num, dx))\n",
    "print('dprev_h error: ', rel_error(dprev_h_num, dprev_h))\n",
    "print('dWx error: ', rel_error(dWx_num, dWx))\n",
    "print('dWh error: ', rel_error(dWh_num, dWh))\n",
    "print('db error: ', rel_error(db_num, db))"
   ]
  },
  {
   "cell_type": "markdown",
   "metadata": {},
   "source": [
    "# Vanilla RNN: forward\n",
    "Now that you have  completed the forward and backward passes for a single timestep of a vanilla RNN, you will see how they are combined to implement a RNN that process an entire sequence of data.\n",
    "\n",
    "In the `VanillaRNN` class in the file `lib/layer_utils.py`, complete the function `forward`. This is implemented using the `step_forward` function that you defined above.\n",
    "\n",
    "After doing so run the following to check the implementation. You should see errors less than `1e-7`."
   ]
  },
  {
   "cell_type": "code",
   "execution_count": 4,
   "metadata": {},
   "outputs": [
    {
     "name": "stdout",
     "output_type": "stream",
     "text": [
      "h error:  7.728466151011529e-08\n"
     ]
    }
   ],
   "source": [
    "%reload_ext autoreload\n",
    "\n",
    "N, T, D, H = 2, 3, 4, 5\n",
    "\n",
    "rnn = VanillaRNN(D, H, init_scale=0.02, name=\"rnn_test\")\n",
    "\n",
    "x = np.linspace(-0.1, 0.3, num=N*T*D).reshape(N, T, D)\n",
    "h0 = np.linspace(-0.3, 0.1, num=N*H).reshape(N, H)\n",
    "Wx = np.linspace(-0.2, 0.4, num=D*H).reshape(D, H)\n",
    "Wh = np.linspace(-0.4, 0.1, num=H*H).reshape(H, H)\n",
    "b = np.linspace(-0.7, 0.1, num=H)\n",
    "\n",
    "rnn.params[rnn.wx_name] = Wx\n",
    "rnn.params[rnn.wh_name] = Wh\n",
    "rnn.params[rnn.b_name] = b\n",
    "\n",
    "h = rnn.forward(x, h0)\n",
    "expected_h = np.asarray([\n",
    "  [\n",
    "    [-0.42070749, -0.27279261, -0.11074945,  0.05740409,  0.22236251],\n",
    "    [-0.39525808, -0.22554661, -0.0409454,   0.14649412,  0.32397316],\n",
    "    [-0.42305111, -0.24223728, -0.04287027,  0.15997045,  0.35014525],\n",
    "  ],\n",
    "  [\n",
    "    [-0.55857474, -0.39065825, -0.19198182,  0.02378408,  0.23735671],\n",
    "    [-0.27150199, -0.07088804,  0.13562939,  0.33099728,  0.50158768],\n",
    "    [-0.51014825, -0.30524429, -0.06755202,  0.17806392,  0.40333043]]])\n",
    "\n",
    "print('h error: ', rel_error(expected_h, h))"
   ]
  },
  {
   "cell_type": "markdown",
   "metadata": {},
   "source": [
    "# Vanilla RNN: backward\n",
    "In the file `lib/layer_utils.py`, complete the backward pass for a vanilla RNN in the function `backward` in the `VanillaRNN` class. This runs back-propagation over the entire sequence, calling into the `step_backward` function defined above.\n",
    "\n",
    "You should see errors less than 5e-7."
   ]
  },
  {
   "cell_type": "code",
   "execution_count": 5,
   "metadata": {},
   "outputs": [
    {
     "name": "stdout",
     "output_type": "stream",
     "text": [
      "dx error:  2.343410197870515e-08\n",
      "dh0 error:  7.862318687700144e-10\n",
      "dWx error:  2.0785873022566864e-08\n",
      "dWh error:  1.485440873402469e-08\n",
      "db error:  3.399954332784714e-10\n"
     ]
    }
   ],
   "source": [
    "%reload_ext autoreload\n",
    "\n",
    "np.random.seed(231)\n",
    "\n",
    "N, D, T, H = 2, 3, 10, 5\n",
    "\n",
    "rnn = VanillaRNN(D, H, init_scale=0.02, name=\"rnn_test\")\n",
    "\n",
    "x = np.random.randn(N, T, D)\n",
    "h0 = np.random.randn(N, H)\n",
    "Wx = np.random.randn(D, H)\n",
    "Wh = np.random.randn(H, H)\n",
    "b = np.random.randn(H)\n",
    "\n",
    "rnn.params[rnn.wx_name] = Wx\n",
    "rnn.params[rnn.wh_name] = Wh\n",
    "rnn.params[rnn.b_name] = b\n",
    "\n",
    "out = rnn.forward(x, h0)\n",
    "\n",
    "dout = np.random.randn(*out.shape)\n",
    "\n",
    "dx, dh0 = rnn.backward(dout)\n",
    "\n",
    "dx_num = eval_numerical_gradient_array(lambda x: rnn.forward(x, h0), x, dout)\n",
    "dh0_num = eval_numerical_gradient_array(lambda h0: rnn.forward(x, h0), h0, dout)\n",
    "dWx_num = eval_numerical_gradient_array(lambda Wx: rnn.forward(x, h0), Wx, dout)\n",
    "dWh_num = eval_numerical_gradient_array(lambda Wh: rnn.forward(x, h0), Wh, dout)\n",
    "db_num = eval_numerical_gradient_array(lambda b: rnn.forward(x, h0), b, dout)\n",
    "\n",
    "dWx = rnn.grads[rnn.wx_name]\n",
    "dWh = rnn.grads[rnn.wh_name]\n",
    "db = rnn.grads[rnn.b_name]\n",
    "\n",
    "print('dx error: ', rel_error(dx_num, dx))\n",
    "print('dh0 error: ', rel_error(dh0_num, dh0))\n",
    "print('dWx error: ', rel_error(dWx_num, dWx))\n",
    "print('dWh error: ', rel_error(dWh_num, dWh))\n",
    "print('db error: ', rel_error(db_num, db))"
   ]
  },
  {
   "cell_type": "markdown",
   "metadata": {},
   "source": [
    "# Word embedding: forward\n",
    "In deep learning systems, we commonly represent words using vectors. Each word of the vocabulary will be associated with a vector, and these vectors will be learned jointly with the rest of the system.\n",
    "\n",
    "In the file `lib/layer_utils.py`, implement the function `forward` in the `word_embedding` class to convert words (represented by integers) into vectors. Run the following to check the implementation. You should see error around `1e-8`."
   ]
  },
  {
   "cell_type": "code",
   "execution_count": 6,
   "metadata": {},
   "outputs": [
    {
     "name": "stdout",
     "output_type": "stream",
     "text": [
      "out error:  1.0000000094736443e-08\n"
     ]
    }
   ],
   "source": [
    "%reload_ext autoreload\n",
    "\n",
    "N, T, V, D = 2, 4, 5, 3\n",
    "\n",
    "we = word_embedding(V, D, name=\"we\")\n",
    "\n",
    "x = np.asarray([[0, 3, 1, 2], [2, 1, 0, 3]])\n",
    "W = np.linspace(0, 1, num=V*D).reshape(V, D)\n",
    "\n",
    "we.params[we.w_name] = W\n",
    "\n",
    "out = we.forward(x)\n",
    "expected_out = np.asarray([\n",
    " [[ 0.,          0.07142857,  0.14285714],\n",
    "  [ 0.64285714,  0.71428571,  0.78571429],\n",
    "  [ 0.21428571,  0.28571429,  0.35714286],\n",
    "  [ 0.42857143,  0.5,         0.57142857]],\n",
    " [[ 0.42857143,  0.5,         0.57142857],\n",
    "  [ 0.21428571,  0.28571429,  0.35714286],\n",
    "  [ 0.,          0.07142857,  0.14285714],\n",
    "  [ 0.64285714,  0.71428571,  0.78571429]]])\n",
    "\n",
    "print('out error: ', rel_error(expected_out, out))"
   ]
  },
  {
   "cell_type": "markdown",
   "metadata": {},
   "source": [
    "# Word embedding: backward\n",
    "Implement the backward pass for the word embedding function in the function `backward` in the `word_embedding` class. After doing so run the following to numerically gradient check your implementation. You should see errors less than `1e-11`."
   ]
  },
  {
   "cell_type": "code",
   "execution_count": 7,
   "metadata": {},
   "outputs": [
    {
     "name": "stdout",
     "output_type": "stream",
     "text": [
      "dW error:  3.2759440934795915e-12\n"
     ]
    }
   ],
   "source": [
    "%reload_ext autoreload\n",
    "\n",
    "np.random.seed(231)\n",
    "\n",
    "N, T, V, D = 50, 3, 5, 6\n",
    "\n",
    "we = word_embedding(V, D, name=\"we\")\n",
    "\n",
    "x = np.random.randint(V, size=(N, T))\n",
    "W = np.random.randn(V, D)\n",
    "\n",
    "we.params[we.w_name] = W\n",
    "\n",
    "out = we.forward(x)\n",
    "dout = np.random.randn(*out.shape)\n",
    "we.backward(dout)\n",
    "\n",
    "dW = we.grads[we.w_name]\n",
    "\n",
    "f = lambda W: we.forward(x)\n",
    "dW_num = eval_numerical_gradient_array(f, W, dout)\n",
    "\n",
    "print('dW error: ', rel_error(dW, dW_num))"
   ]
  },
  {
   "cell_type": "markdown",
   "metadata": {},
   "source": [
    "# Temporal Fully Connected layer\n",
    "At every timestep we use an affine function to transform the RNN hidden vector at that timestep into scores for each word in the vocabulary. Because this is very similar to the fully connected layer that you implemented in assignment 1, we have provided this function for you in the `forward` and `backward` functions in the file `lib/layer_util.py`. Run the following to perform numeric gradient checking on the implementation. You should see errors less than 1e-9."
   ]
  },
  {
   "cell_type": "code",
   "execution_count": 8,
   "metadata": {},
   "outputs": [
    {
     "name": "stdout",
     "output_type": "stream",
     "text": [
      "dx error:  3.2269470390098687e-10\n",
      "dw error:  3.8595619942595054e-11\n",
      "db error:  1.1455396263586309e-11\n"
     ]
    }
   ],
   "source": [
    "%reload_ext autoreload\n",
    "\n",
    "np.random.seed(231)\n",
    "\n",
    "# Gradient check for temporal affine layer\n",
    "N, T, D, M = 2, 3, 4, 5\n",
    "\n",
    "t_fc = temporal_fc(D, M, init_scale=0.02, name='test_t_fc')\n",
    "\n",
    "x = np.random.randn(N, T, D)\n",
    "w = np.random.randn(D, M)\n",
    "b = np.random.randn(M)\n",
    "\n",
    "t_fc.params[t_fc.w_name] = w\n",
    "t_fc.params[t_fc.b_name] = b\n",
    "\n",
    "out = t_fc.forward(x)\n",
    "\n",
    "dout = np.random.randn(*out.shape)\n",
    "\n",
    "dx_num = eval_numerical_gradient_array(lambda x: t_fc.forward(x), x, dout)\n",
    "dw_num = eval_numerical_gradient_array(lambda w: t_fc.forward(x), w, dout)\n",
    "db_num = eval_numerical_gradient_array(lambda b: t_fc.forward(x), b, dout)\n",
    "\n",
    "dx = t_fc.backward(dout)\n",
    "dw = t_fc.grads[t_fc.w_name]\n",
    "db = t_fc.grads[t_fc.b_name]\n",
    "\n",
    "print('dx error: ', rel_error(dx_num, dx))\n",
    "print('dw error: ', rel_error(dw_num, dw))\n",
    "print('db error: ', rel_error(db_num, db))"
   ]
  },
  {
   "cell_type": "markdown",
   "metadata": {},
   "source": [
    "# Temporal Softmax loss\n",
    "In an RNN language model, at every timestep we produce a score for each word in the vocabulary. We know the ground-truth word at each timestep, so we use a softmax loss function to compute loss and gradient at each timestep. We sum the losses over time and average them over the minibatch.\n",
    "\n",
    "We provide this loss function for you; look at the `temporal_softmax_loss` function in the file `lib/layer_utils.py`.\n",
    "\n",
    "Run the following cell to sanity check the loss and perform numeric gradient checking on the function. You should see an error for dx less than 1e-7."
   ]
  },
  {
   "cell_type": "code",
   "execution_count": 9,
   "metadata": {},
   "outputs": [
    {
     "name": "stdout",
     "output_type": "stream",
     "text": [
      "2.3026547279318357\n",
      "23.026307039328714\n",
      "2.2989009292538665\n",
      "dx error:  4.0464746298031226e-08\n"
     ]
    }
   ],
   "source": [
    "%reload_ext autoreload\n",
    "\n",
    "loss_func = temporal_softmax_loss()\n",
    "\n",
    "# Sanity check for temporal softmax loss\n",
    "N, T, V = 100, 1, 10\n",
    "\n",
    "def check_loss(N, T, V, p):\n",
    "    x = 0.001 * np.random.randn(N, T, V)\n",
    "    y = np.random.randint(V, size=(N, T))\n",
    "    mask = np.random.rand(N, T) <= p\n",
    "    print(loss_func.forward(x, y, mask))\n",
    "  \n",
    "check_loss(100, 1, 10, 1.0)   # Should be about 2.3\n",
    "check_loss(100, 10, 10, 1.0)  # Should be about 23\n",
    "check_loss(5000, 10, 10, 0.1) # Should be about 2.3\n",
    "\n",
    "# Gradient check for temporal softmax loss\n",
    "N, T, V = 7, 8, 9\n",
    "\n",
    "x = np.random.randn(N, T, V)\n",
    "y = np.random.randint(V, size=(N, T))\n",
    "mask = (np.random.rand(N, T) > 0.5)\n",
    "\n",
    "loss = loss_func.forward(x, y, mask)\n",
    "dx = loss_func.backward()\n",
    "\n",
    "dx_num = eval_numerical_gradient(lambda x: loss_func.forward(x, y, mask), x, verbose=False)\n",
    "\n",
    "print('dx error: ', rel_error(dx, dx_num))"
   ]
  },
  {
   "cell_type": "markdown",
   "metadata": {},
   "source": [
    "# RNN for language modeling\n",
    "Now that you have the necessary layers, you can combine them to build a language modeling model. Open the file `lib/rnn.py` and look at the `TestRNN` class.\n",
    "\n",
    "Check the forward and backward pass of the model in the `loss` function. For now you only see the implementation of the case where `cell_type='rnn'` for vanilla RNNs; you will implement the LSTM case later. After doing so, run the following to check the forward pass using a small test case; you should see error less than `1e-10`."
   ]
  },
  {
   "cell_type": "code",
   "execution_count": 10,
   "metadata": {
    "scrolled": false
   },
   "outputs": [
    {
     "name": "stdout",
     "output_type": "stream",
     "text": [
      "loss:  51.094918913361184\n",
      "expected loss:  51.0949189134\n",
      "difference:  3.881694965457427e-11\n"
     ]
    }
   ],
   "source": [
    "%reload_ext autoreload\n",
    "\n",
    "N, D, H = 10, 20, 40\n",
    "V = 4\n",
    "T = 13\n",
    "\n",
    "model = TestRNN(D, H, cell_type='rnn')\n",
    "loss_func = temporal_softmax_loss()\n",
    "\n",
    "# Set all model parameters to fixed values\n",
    "for k, v in model.params.items():\n",
    "    model.params[k] = np.linspace(-1.4, 1.3, num=v.size).reshape(*v.shape)\n",
    "model.assign_params()\n",
    "\n",
    "features = np.linspace(-1.5, 0.3, num=(N * D * T)).reshape(N, T, D)\n",
    "h0 = np.linspace(-1.5, 0.5, num=(N*H)).reshape(N, H)\n",
    "labels = (np.arange(N * T) % V).reshape(N, T)\n",
    "\n",
    "pred = model.forward(features, h0)\n",
    "\n",
    "# You'll need this\n",
    "mask = np.ones((N, T))\n",
    "\n",
    "loss = loss_func.forward(pred, labels, mask)\n",
    "dLoss = loss_func.backward()\n",
    "\n",
    "expected_loss = 51.0949189134\n",
    "\n",
    "print('loss: ', loss)\n",
    "print('expected loss: ', expected_loss)\n",
    "print('difference: ', abs(loss - expected_loss))"
   ]
  },
  {
   "cell_type": "markdown",
   "metadata": {},
   "source": [
    "Run the following cell to perform numeric gradient checking on the `TestRNN` class; you should errors around `1e-7` or less."
   ]
  },
  {
   "cell_type": "code",
   "execution_count": 56,
   "metadata": {},
   "outputs": [
    {
     "name": "stdout",
     "output_type": "stream",
     "text": [
      "vanilla_rnn_b relative error: 9.451394e-08\n",
      "vanilla_rnn_wh relative error: 3.221744e-08\n",
      "vanilla_rnn_wx relative error: 9.508480e-08\n"
     ]
    }
   ],
   "source": [
    "%reload_ext autoreload\n",
    "\n",
    "np.random.seed(231)\n",
    "\n",
    "batch_size = 2\n",
    "timesteps = 3\n",
    "input_dim = 4\n",
    "hidden_dim = 6\n",
    "label_size = 4\n",
    "\n",
    "labels = np.random.randint(label_size, size=(batch_size, timesteps))\n",
    "features = np.random.randn(batch_size, timesteps, input_dim)\n",
    "h0 = np.random.randn(batch_size, hidden_dim)\n",
    "\n",
    "model = TestRNN(input_dim, hidden_dim, cell_type='rnn')\n",
    "loss_func = temporal_softmax_loss()\n",
    "\n",
    "pred = model.forward(features, h0)\n",
    "\n",
    "# You'll need this\n",
    "mask = np.ones((batch_size, timesteps))\n",
    "\n",
    "loss = loss_func.forward(pred, labels, mask)\n",
    "dLoss = loss_func.backward()\n",
    "\n",
    "dout, dh0 = model.backward(dLoss)\n",
    "\n",
    "grads = model.grads\n",
    "\n",
    "for param_name in sorted(grads):\n",
    "    \n",
    "    f = lambda _: loss_func.forward(model.forward(features, h0), labels, mask)\n",
    "    param_grad_num = eval_numerical_gradient(f, model.params[param_name], verbose=False, h=1e-6)\n",
    "    e = rel_error(param_grad_num, grads[param_name])\n",
    "    print('%s relative error: %e' % (param_name, e))"
   ]
  },
  {
   "cell_type": "markdown",
   "metadata": {},
   "source": [
    "# LSTM\n",
    "Vanilla RNNs can be tough to train on long sequences due to vanishing and exploding gradiants. LSTMs solve this problem by replacing the simple update rule of the vanilla RNN with a gating mechanism as follows.\n",
    "\n",
    "Similar to the vanilla RNN, at each timestep we receive an input $x_t\\in\\mathbb{R}^D$ and the previous hidden state $h_{t-1}\\in\\mathbb{R}^H$; what is different in the LSTM is to maintain an $H$-dimensional *cell state*, so we also receive the previous cell state $c_{t-1}\\in\\mathbb{R}^H$. The learnable parameters of the LSTM are an *input-to-hidden* matrix $W_x\\in\\mathbb{R}^{4H\\times D}$, a *hidden-to-hidden* matrix $W_h\\in\\mathbb{R}^{4H\\times H}$ and a *bias vector* $b\\in\\mathbb{R}^{4H}$.\n",
    "\n",
    "At each timestep we first compute an *activation vector* $a\\in\\mathbb{R}^{4H}$ as $a=W_xx_t + W_hh_{t-1}+b$. We then divide this into four vectors $a_i,a_f,a_o,a_g\\in\\mathbb{R}^H$ where $a_i$ consists of the first $H$ elements of $a$, $a_f$ is the next $H$ elements of $a$, etc. We then compute the *input gate* $g\\in\\mathbb{R}^H$, *forget gate* $f\\in\\mathbb{R}^H$, *output gate* $o\\in\\mathbb{R}^H$ and *gate gate* $g\\in\\mathbb{R}^H$ as\n",
    "\n",
    "$$\n",
    "\\begin{align*}\n",
    "i = \\sigma(a_i) \\hspace{2pc}\n",
    "f = \\sigma(a_f) \\hspace{2pc}\n",
    "o = \\sigma(a_o) \\hspace{2pc}\n",
    "g = \\tanh(a_g)\n",
    "\\end{align*}\n",
    "$$\n",
    "\n",
    "where $\\sigma$ is the sigmoid function and $\\tanh$ is the hyperbolic tangent, both applied elementwise.\n",
    "\n",
    "Finally we compute the next cell state $c_t$ and next hidden state $h_t$ as\n",
    "\n",
    "$$\n",
    "c_{t} = f\\odot c_{t-1} + i\\odot g \\hspace{4pc}\n",
    "h_t = o\\odot\\tanh(c_t)\n",
    "$$\n",
    "\n",
    "where $\\odot$ is the elementwise product of vectors.\n",
    "\n",
    "In the rest of the notebook we will implement the LSTM update rule and apply it to the text generation task. \n",
    "\n",
    "In the code, we assume that data is stored in batches so that $X_t \\in \\mathbb{R}^{N\\times D}$, and will work with *transposed* versions of the parameters: $W_x \\in \\mathbb{R}^{D \\times 4H}$, $W_h \\in \\mathbb{R}^{H\\times 4H}$ so that activations $A \\in \\mathbb{R}^{N\\times 4H}$ can be computed efficiently as $A = X_t W_x + H_{t-1} W_h$"
   ]
  },
  {
   "cell_type": "markdown",
   "metadata": {},
   "source": [
    "# LSTM: step forward\n",
    "Implement the forward pass for a single timestep of an LSTM in the `step_forward` function in the file `lib/layer_utils.py`. This should be similar to the `step_forward` function that you implemented above, but using the LSTM update rule instead.\n",
    "\n",
    "Once you are done, run the following to perform a simple test of your implementation. You should see errors around `1e-8` or less."
   ]
  },
  {
   "cell_type": "code",
   "execution_count": 57,
   "metadata": {},
   "outputs": [
    {
     "name": "stdout",
     "output_type": "stream",
     "text": [
      "next_h error:  5.7054131185818695e-09\n",
      "next_c error:  5.8143123088804145e-09\n"
     ]
    }
   ],
   "source": [
    "%reload_ext autoreload\n",
    "\n",
    "N, D, H = 3, 4, 5\n",
    "\n",
    "lstm = LSTM(D, H, init_scale=0.02, name='test_lstm')\n",
    "\n",
    "x = np.linspace(-0.4, 1.2, num=N*D).reshape(N, D)\n",
    "prev_h = np.linspace(-0.3, 0.7, num=N*H).reshape(N, H)\n",
    "prev_c = np.linspace(-0.4, 0.9, num=N*H).reshape(N, H)\n",
    "Wx = np.linspace(-2.1, 1.3, num=4*D*H).reshape(D, 4 * H)\n",
    "Wh = np.linspace(-0.7, 2.2, num=4*H*H).reshape(H, 4 * H)\n",
    "b = np.linspace(0.3, 0.7, num=4*H)\n",
    "\n",
    "lstm.params[lstm.wx_name] = Wx\n",
    "lstm.params[lstm.wh_name] = Wh\n",
    "lstm.params[lstm.b_name] = b\n",
    "\n",
    "next_h, next_c, cache = lstm.step_forward(x, prev_h, prev_c)\n",
    "\n",
    "expected_next_h = np.asarray([\n",
    "    [ 0.24635157,  0.28610883,  0.32240467,  0.35525807,  0.38474904],\n",
    "    [ 0.49223563,  0.55611431,  0.61507696,  0.66844003,  0.7159181 ],\n",
    "    [ 0.56735664,  0.66310127,  0.74419266,  0.80889665,  0.858299  ]])\n",
    "expected_next_c = np.asarray([\n",
    "    [ 0.32986176,  0.39145139,  0.451556,    0.51014116,  0.56717407],\n",
    "    [ 0.66382255,  0.76674007,  0.87195994,  0.97902709,  1.08751345],\n",
    "    [ 0.74192008,  0.90592151,  1.07717006,  1.25120233,  1.42395676]])\n",
    "\n",
    "print('next_h error: ', rel_error(expected_next_h, next_h))\n",
    "print('next_c error: ', rel_error(expected_next_c, next_c))"
   ]
  },
  {
   "cell_type": "markdown",
   "metadata": {},
   "source": [
    "# LSTM: step backward\n",
    "Implement the backward pass for a single LSTM timestep in the function `step_backward` in the file `lib/layer_utils.py`. Once you are done, run the following to perform numeric gradient checking on your implementation. You should see errors around `1e-6` or less."
   ]
  },
  {
   "cell_type": "code",
   "execution_count": 14,
   "metadata": {},
   "outputs": [
    {
     "name": "stdout",
     "output_type": "stream",
     "text": [
      "dx error:  3.390657106134666e-10\n",
      "dh error:  1.048318037723526e-08\n",
      "dc error:  1.0127280886420228e-08\n",
      "dWx error:  1.8944292163912603e-07\n",
      "dWh error:  1.461752914864933e-07\n",
      "db error:  1.8671697284523756e-08\n"
     ]
    }
   ],
   "source": [
    "%reload_ext autoreload\n",
    "\n",
    "np.random.seed(231)\n",
    "\n",
    "N, D, H = 4, 5, 6\n",
    "\n",
    "lstm = LSTM(D, H, init_scale=0.02, name='test_lstm')\n",
    "\n",
    "x = np.random.randn(N, D)\n",
    "prev_h = np.random.randn(N, H)\n",
    "prev_c = np.random.randn(N, H)\n",
    "Wx = np.random.randn(D, 4 * H)\n",
    "Wh = np.random.randn(H, 4 * H)\n",
    "b = np.random.randn(4 * H)\n",
    "\n",
    "lstm.params[lstm.wx_name] = Wx\n",
    "lstm.params[lstm.wh_name] = Wh\n",
    "lstm.params[lstm.b_name] = b\n",
    "\n",
    "next_h, next_c, cache = lstm.step_forward(x, prev_h, prev_c)\n",
    "\n",
    "\n",
    "dnext_h = np.random.randn(*next_h.shape)\n",
    "dnext_c = np.random.randn(*next_c.shape)\n",
    "\n",
    "fx_h = lambda x: lstm.step_forward(x, prev_h, prev_c)[0]\n",
    "fh_h = lambda h: lstm.step_forward(x, prev_h, prev_c)[0]\n",
    "fc_h = lambda c: lstm.step_forward(x, prev_h, prev_c)[0]\n",
    "fWx_h = lambda Wx: lstm.step_forward(x, prev_h, prev_c)[0]\n",
    "fWh_h = lambda Wh: lstm.step_forward(x, prev_h, prev_c)[0]\n",
    "fb_h = lambda b: lstm.step_forward(x, prev_h, prev_c)[0]\n",
    "\n",
    "fx_c = lambda x: lstm.step_forward(x, prev_h, prev_c)[1]\n",
    "fh_c = lambda h: lstm.step_forward(x, prev_h, prev_c)[1]\n",
    "fc_c = lambda c: lstm.step_forward(x, prev_h, prev_c)[1]\n",
    "fWx_c = lambda Wx: lstm.step_forward(x, prev_h, prev_c)[1]\n",
    "fWh_c = lambda Wh: lstm.step_forward(x, prev_h, prev_c)[1]\n",
    "fb_c = lambda b: lstm.step_forward(x, prev_h, prev_c)[1]\n",
    "\n",
    "num_grad = eval_numerical_gradient_array\n",
    "\n",
    "dx_num = num_grad(fx_h, x, dnext_h) + num_grad(fx_c, x, dnext_c)\n",
    "dh_num = num_grad(fh_h, prev_h, dnext_h) + num_grad(fh_c, prev_h, dnext_c)\n",
    "dc_num = num_grad(fc_h, prev_c, dnext_h) + num_grad(fc_c, prev_c, dnext_c)\n",
    "dWx_num = num_grad(fWx_h, Wx, dnext_h) + num_grad(fWx_c, Wx, dnext_c)\n",
    "dWh_num = num_grad(fWh_h, Wh, dnext_h) + num_grad(fWh_c, Wh, dnext_c)\n",
    "db_num = num_grad(fb_h, b, dnext_h) + num_grad(fb_c, b, dnext_c)\n",
    "\n",
    "dx, dh, dc, dWx, dWh, db = lstm.step_backward(dnext_h, dnext_c, cache)\n",
    "\n",
    "print('dx error: ', rel_error(dx_num, dx))\n",
    "print('dh error: ', rel_error(dh_num, dh))\n",
    "print('dc error: ', rel_error(dc_num, dc))\n",
    "print('dWx error: ', rel_error(dWx_num, dWx))\n",
    "print('dWh error: ', rel_error(dWh_num, dWh))\n",
    "print('db error: ', rel_error(db_num, db))"
   ]
  },
  {
   "cell_type": "markdown",
   "metadata": {},
   "source": [
    "# LSTM: forward\n",
    "In the class `lstm` in the file `lib/layer_utils.py`, implement the `forward` function to run an LSTM forward on an entire timeseries of data.\n",
    "\n",
    "When you are done, run the following to check your implementation. You should see an error around `1e-7`."
   ]
  },
  {
   "cell_type": "code",
   "execution_count": 15,
   "metadata": {},
   "outputs": [
    {
     "name": "stdout",
     "output_type": "stream",
     "text": [
      "h error:  8.610537452106624e-08\n"
     ]
    }
   ],
   "source": [
    "%reload_ext autoreload\n",
    "\n",
    "N, D, H, T = 2, 5, 4, 3\n",
    "\n",
    "lstm = LSTM(D, H, init_scale=0.02, name='test_lstm')\n",
    "\n",
    "x = np.linspace(-0.4, 0.6, num=N*T*D).reshape(N, T, D)\n",
    "h0 = np.linspace(-0.4, 0.8, num=N*H).reshape(N, H)\n",
    "Wx = np.linspace(-0.2, 0.9, num=4*D*H).reshape(D, 4 * H)\n",
    "Wh = np.linspace(-0.3, 0.6, num=4*H*H).reshape(H, 4 * H)\n",
    "b = np.linspace(0.2, 0.7, num=4*H)\n",
    "\n",
    "lstm.params[lstm.wx_name] = Wx\n",
    "lstm.params[lstm.wh_name] = Wh\n",
    "lstm.params[lstm.b_name] = b\n",
    "\n",
    "h = lstm.forward(x, h0)\n",
    "\n",
    "expected_h = np.asarray([\n",
    " [[ 0.01764008,  0.01823233,  0.01882671,  0.0194232 ],\n",
    "  [ 0.11287491,  0.12146228,  0.13018446,  0.13902939],\n",
    "  [ 0.31358768,  0.33338627,  0.35304453,  0.37250975]],\n",
    " [[ 0.45767879,  0.4761092,   0.4936887,   0.51041945],\n",
    "  [ 0.6704845,   0.69350089,  0.71486014,  0.7346449 ],\n",
    "  [ 0.81733511,  0.83677871,  0.85403753,  0.86935314]]])\n",
    "\n",
    "print('h error: ', rel_error(expected_h, h))"
   ]
  },
  {
   "cell_type": "markdown",
   "metadata": {},
   "source": [
    "# LSTM: backward\n",
    "Implement the backward pass for an LSTM over an entire timeseries of data in the function `backward` in the `lstm` class in the file `lib/layer_utils.py`. When you are done, run the following to perform numeric gradient checking on your implementation. You should see errors around `1e-7` or less."
   ]
  },
  {
   "cell_type": "code",
   "execution_count": 16,
   "metadata": {},
   "outputs": [
    {
     "name": "stdout",
     "output_type": "stream",
     "text": [
      "dx error:  1.697574820930658e-09\n",
      "dh0 error:  2.859333845449481e-10\n",
      "dWx error:  8.066142552562204e-09\n",
      "dWh error:  5.143345917927948e-08\n",
      "db error:  5.485894231688898e-10\n"
     ]
    }
   ],
   "source": [
    "%reload_ext autoreload\n",
    "\n",
    "np.random.seed(231)\n",
    "\n",
    "N, D, T, H = 2, 3, 10, 6\n",
    "\n",
    "lstm = LSTM(D, H, init_scale=0.02, name='test_lstm')\n",
    "\n",
    "x = np.random.randn(N, T, D)\n",
    "h0 = np.random.randn(N, H)\n",
    "Wx = np.random.randn(D, 4 * H)\n",
    "Wh = np.random.randn(H, 4 * H)\n",
    "b = np.random.randn(4 * H)\n",
    "\n",
    "lstm.params[lstm.wx_name] = Wx\n",
    "lstm.params[lstm.wh_name] = Wh\n",
    "lstm.params[lstm.b_name] = b\n",
    "\n",
    "out = lstm.forward(x, h0)\n",
    "\n",
    "dout = np.random.randn(*out.shape)\n",
    "\n",
    "dx, dh0 = lstm.backward(dout)\n",
    "dWx = lstm.grads[lstm.wx_name] \n",
    "dWh = lstm.grads[lstm.wh_name]\n",
    "db = lstm.grads[lstm.b_name]\n",
    "\n",
    "dx_num = eval_numerical_gradient_array(lambda x: lstm.forward(x, h0), x, dout)\n",
    "dh0_num = eval_numerical_gradient_array(lambda h0: lstm.forward(x, h0), h0, dout)\n",
    "dWx_num = eval_numerical_gradient_array(lambda Wx: lstm.forward(x, h0), Wx, dout)\n",
    "dWh_num = eval_numerical_gradient_array(lambda Wh: lstm.forward(x, h0), Wh, dout)\n",
    "db_num = eval_numerical_gradient_array(lambda b: lstm.forward(x, h0), b, dout)\n",
    "\n",
    "print('dx error: ', rel_error(dx_num, dx))\n",
    "print('dh0 error: ', rel_error(dh0_num, dh0))\n",
    "print('dWx error: ', rel_error(dWx_num, dWx))\n",
    "print('dWh error: ', rel_error(dWh_num, dWh))\n",
    "print('db error: ', rel_error(db_num, db))"
   ]
  },
  {
   "cell_type": "markdown",
   "metadata": {},
   "source": [
    "# LSTM model\n",
    "\n",
    "Now that you have implemented an LSTM, update the initialization of the `TestRNN` class in the file `lib/rnn.py` to handle the case where `self.cell_type` is `lstm`. This should require adding only one line of code.\n",
    "\n",
    "Once you have done so, run the following to check your implementation. You should see a difference of less than `1e-10`."
   ]
  },
  {
   "cell_type": "code",
   "execution_count": 17,
   "metadata": {},
   "outputs": [
    {
     "name": "stdout",
     "output_type": "stream",
     "text": [
      "loss:  49.21402563544293\n",
      "expected loss:  49.2140256354\n",
      "difference:  4.293099209462525e-11\n"
     ]
    }
   ],
   "source": [
    "%reload_ext autoreload\n",
    "\n",
    "N, D, H = 10, 20, 40\n",
    "V = 4\n",
    "T = 13\n",
    "\n",
    "model = TestRNN(D, H, cell_type='lstm')\n",
    "loss_func = temporal_softmax_loss()\n",
    "\n",
    "# Set all model parameters to fixed values\n",
    "for k, v in model.params.items():\n",
    "    model.params[k] = np.linspace(-1.4, 1.3, num=v.size).reshape(*v.shape)\n",
    "model.assign_params()\n",
    "\n",
    "features = np.linspace(-1.5, 0.3, num=(N * D * T)).reshape(N, T, D)\n",
    "h0 = np.linspace(-1.5, 0.5, num=(N*H)).reshape(N, H)\n",
    "labels = (np.arange(N * T) % V).reshape(N, T)\n",
    "\n",
    "pred = model.forward(features, h0)\n",
    "\n",
    "# You'll need this\n",
    "mask = np.ones((N, T))\n",
    "\n",
    "loss = loss_func.forward(pred, labels, mask)\n",
    "dLoss = loss_func.backward()\n",
    "\n",
    "expected_loss = 49.2140256354\n",
    "\n",
    "print('loss: ', loss)\n",
    "print('expected loss: ', expected_loss)\n",
    "print('difference: ', abs(loss - expected_loss))"
   ]
  },
  {
   "cell_type": "markdown",
   "metadata": {},
   "source": [
    "# Let's have some fun!!\n",
    "\n",
    "Now you have everything you need for language modeling. You will work on text generation using RNNs from any text source (novel, lyrics).\n",
    "\n",
    "The network is trained to predict what word is coming next given a previous word. Once you train the model, by looping the network, you can keep generating a new text which is mimicing the original text source.\n",
    "\n",
    "We will use one of the most frequently downloaded e-books, Alice's Adventures in Wonderland, from Project Gutenberg, where the original link can be found [here](https://www.gutenberg.org/ebooks/11).\n",
    "\n",
    "We extracted only the first chapter for the resources saving."
   ]
  },
  {
   "cell_type": "code",
   "execution_count": 60,
   "metadata": {},
   "outputs": [],
   "source": [
    "%reload_ext autoreload\n",
    "\n",
    "input_file = open(\"data/Harry\", \"r\",encoding=\"utf8\")\n",
    "input_text = input_file.readlines()\n",
    "input_text = ''.join(input_text)"
   ]
  },
  {
   "cell_type": "markdown",
   "metadata": {},
   "source": [
    "simply run the following code to construct training dataset<br />"
   ]
  },
  {
   "cell_type": "code",
   "execution_count": 61,
   "metadata": {},
   "outputs": [
    {
     "name": "stdout",
     "output_type": "stream",
     "text": [
      "Input text size: 4682\n",
      "Input word number: 1572\n"
     ]
    }
   ],
   "source": [
    "%reload_ext autoreload\n",
    "\n",
    "import re\n",
    "\n",
    "text = re.split(' |\\n',input_text.lower()) # all words are converted into lower case\n",
    "outputSize = len(text)\n",
    "word_list = list(set(text))\n",
    "dataSize = len(word_list)\n",
    "output = np.zeros(outputSize)\n",
    "for i in range(0, outputSize):\n",
    "    index = np.where(np.asarray(word_list) == text[i])\n",
    "    output[i] = index[0]\n",
    "data_labels = output.astype(np.int)\n",
    "gt_labels = data_labels[1:]\n",
    "data_labels = data_labels[:-1]\n",
    "\n",
    "print('Input text size: %s' % outputSize)\n",
    "print('Input word number: %s' % dataSize)"
   ]
  },
  {
   "cell_type": "markdown",
   "metadata": {},
   "source": [
    "We defined a LanguageModelRNN class for you to fill in the TODO block in rnn.py.\n",
    "* Here design a recurrent neutral network consisting of a word_embedding layer, recurrent unit, and temporal fully connected layers so that they match the provided dimensions.\n",
    "* Please read the train.py under lib directory carefully and complete the TODO blocks in the train_net function first."
   ]
  },
  {
   "cell_type": "code",
   "execution_count": 62,
   "metadata": {
    "scrolled": false
   },
   "outputs": [
    {
     "name": "stdout",
     "output_type": "stream",
     "text": [
      "(Iteration 1 / 46800) loss: 367.94178003900845\n",
      "best performance 4.315317239906003%\n",
      "(Epoch 1 / 100) Training Accuracy: 0.04315317239906003\n",
      "(Iteration 501 / 46800) loss: 307.28408158558125\n",
      "best performance 4.742576372569964%\n",
      "(Epoch 2 / 100) Training Accuracy: 0.047425763725699635\n",
      "(Iteration 1001 / 46800) loss: 299.14761044767397\n",
      "best performance 6.750694296090579%\n",
      "(Epoch 3 / 100) Training Accuracy: 0.06750694296090579\n",
      "(Iteration 1501 / 46800) loss: 282.50910682838685\n",
      "best performance 8.37427900021363%\n",
      "(Epoch 4 / 100) Training Accuracy: 0.0837427900021363\n",
      "(Iteration 2001 / 46800) loss: 272.58688034026153\n",
      "best performance 9.99786370433668%\n",
      "(Epoch 5 / 100) Training Accuracy: 0.0999786370433668\n",
      "(Iteration 2501 / 46800) loss: 244.2216759301843\n",
      "best performance 12.112796411023286%\n",
      "(Epoch 6 / 100) Training Accuracy: 0.12112796411023286\n",
      "(Iteration 3001 / 46800) loss: 230.09861408966094\n",
      "best performance 14.441358684041871%\n",
      "(Epoch 7 / 100) Training Accuracy: 0.14441358684041872\n",
      "(Iteration 3501 / 46800) loss: 216.2715883815168\n",
      "best performance 17.987609485152745%\n",
      "(Epoch 8 / 100) Training Accuracy: 0.17987609485152745\n",
      "(Iteration 4001 / 46800) loss: 200.95610501491282\n",
      "best performance 22.38837855159154%\n",
      "(Epoch 9 / 100) Training Accuracy: 0.2238837855159154\n",
      "(Iteration 4501 / 46800) loss: 187.64499479568886\n",
      "best performance 26.233710745567183%\n",
      "(Epoch 10 / 100) Training Accuracy: 0.26233710745567185\n",
      "(Iteration 5001 / 46800) loss: 177.573898700724\n",
      "best performance 30.03631702627644%\n",
      "(Epoch 11 / 100) Training Accuracy: 0.3003631702627644\n",
      "(Iteration 5501 / 46800) loss: 170.17009720440666\n",
      "best performance 33.603930784020505%\n",
      "(Epoch 12 / 100) Training Accuracy: 0.3360393078402051\n",
      "(Iteration 6001 / 46800) loss: 157.41292444644927\n",
      "best performance 36.701559495834225%\n",
      "(Epoch 13 / 100) Training Accuracy: 0.36701559495834224\n",
      "(Iteration 6501 / 46800) loss: 150.18700292533595\n",
      "best performance 39.35056611835078%\n",
      "(Epoch 14 / 100) Training Accuracy: 0.39350566118350777\n",
      "(Iteration 7001 / 46800) loss: 139.2841319188711\n",
      "best performance 41.74321726126896%\n",
      "(Epoch 15 / 100) Training Accuracy: 0.4174321726126896\n",
      "best performance 44.199957274086735%\n",
      "(Epoch 16 / 100) Training Accuracy: 0.4419995727408673\n",
      "(Iteration 7501 / 46800) loss: 129.00674381169657\n",
      "best performance 46.101260414441356%\n",
      "(Epoch 17 / 100) Training Accuracy: 0.4610126041444136\n",
      "(Iteration 8001 / 46800) loss: 118.37893774853497\n",
      "best performance 48.10937833796197%\n",
      "(Epoch 18 / 100) Training Accuracy: 0.4810937833796197\n",
      "(Iteration 8501 / 46800) loss: 122.82523905760192\n",
      "best performance 50.0106814783166%\n",
      "(Epoch 19 / 100) Training Accuracy: 0.500106814783166\n",
      "(Iteration 9001 / 46800) loss: 110.35354276046147\n",
      "best performance 51.67699209570604%\n",
      "(Epoch 20 / 100) Training Accuracy: 0.5167699209570604\n",
      "(Iteration 9501 / 46800) loss: 114.46696506032224\n",
      "best performance 53.10831019013031%\n",
      "(Epoch 21 / 100) Training Accuracy: 0.5310831019013031\n",
      "(Iteration 10001 / 46800) loss: 107.9876929831551\n",
      "best performance 54.47553941465498%\n",
      "(Epoch 22 / 100) Training Accuracy: 0.5447553941465498\n",
      "(Iteration 10501 / 46800) loss: 112.97816313750089\n",
      "best performance 55.650502029480876%\n",
      "(Epoch 23 / 100) Training Accuracy: 0.5565050202948087\n",
      "(Iteration 11001 / 46800) loss: 98.82055328815343\n",
      "best performance 56.97500534073916%\n",
      "(Epoch 24 / 100) Training Accuracy: 0.5697500534073916\n",
      "(Iteration 11501 / 46800) loss: 92.84692626333126\n",
      "best performance 58.14996795556505%\n",
      "(Epoch 25 / 100) Training Accuracy: 0.5814996795556505\n",
      "(Iteration 12001 / 46800) loss: 98.53535711397106\n",
      "best performance 59.36765648365734%\n",
      "(Epoch 26 / 100) Training Accuracy: 0.5936765648365734\n",
      "(Iteration 12501 / 46800) loss: 101.54319718711557\n",
      "best performance 59.85900448622089%\n",
      "(Epoch 27 / 100) Training Accuracy: 0.5985900448622089\n",
      "(Iteration 13001 / 46800) loss: 89.44378662992771\n",
      "best performance 60.585345011749624%\n",
      "(Epoch 28 / 100) Training Accuracy: 0.6058534501174963\n",
      "(Iteration 13501 / 46800) loss: 99.7096880914424\n",
      "best performance 61.56804101687674%\n",
      "(Epoch 29 / 100) Training Accuracy: 0.6156804101687674\n",
      "(Iteration 14001 / 46800) loss: 84.28370684419161\n",
      "best performance 62.12347788933988%\n",
      "(Epoch 30 / 100) Training Accuracy: 0.6212347788933988\n",
      "(Iteration 14501 / 46800) loss: 82.66462843727375\n",
      "best performance 63.084810937833794%\n",
      "(Epoch 31 / 100) Training Accuracy: 0.6308481093783379\n",
      "best performance 63.55479598376416%\n",
      "(Epoch 32 / 100) Training Accuracy: 0.6355479598376416\n",
      "(Iteration 15001 / 46800) loss: 78.43696837044176\n",
      "best performance 64.36658833582568%\n",
      "(Epoch 33 / 100) Training Accuracy: 0.6436658833582568\n",
      "(Iteration 15501 / 46800) loss: 77.87049586926757\n",
      "best performance 65.07156590472121%\n",
      "(Epoch 34 / 100) Training Accuracy: 0.6507156590472122\n",
      "(Iteration 16001 / 46800) loss: 77.9420454040746\n",
      "best performance 65.73381756035035%\n",
      "(Epoch 35 / 100) Training Accuracy: 0.6573381756035035\n",
      "(Iteration 16501 / 46800) loss: 72.19696470797615\n",
      "best performance 66.03289895321512%\n",
      "(Epoch 36 / 100) Training Accuracy: 0.6603289895321512\n",
      "(Iteration 17001 / 46800) loss: 87.4693939651801\n",
      "best performance 66.75923947874386%\n",
      "(Epoch 37 / 100) Training Accuracy: 0.6675923947874386\n",
      "(Iteration 17501 / 46800) loss: 73.08214868869418\n",
      "best performance 67.3360393078402%\n",
      "(Epoch 38 / 100) Training Accuracy: 0.673360393078402\n",
      "(Iteration 18001 / 46800) loss: 74.67381206211911\n",
      "best performance 67.93420209356975%\n",
      "(Epoch 39 / 100) Training Accuracy: 0.6793420209356975\n",
      "(Iteration 18501 / 46800) loss: 76.11749626175506\n",
      "best performance 68.29737235633412%\n",
      "(Epoch 40 / 100) Training Accuracy: 0.6829737235633412\n",
      "(Iteration 19001 / 46800) loss: 72.70487461783298\n",
      "best performance 69.02371288186285%\n",
      "(Epoch 41 / 100) Training Accuracy: 0.6902371288186285\n",
      "(Iteration 19501 / 46800) loss: 66.17407468439417\n",
      "best performance 69.47233497116001%\n",
      "(Epoch 42 / 100) Training Accuracy: 0.6947233497116001\n",
      "(Iteration 20001 / 46800) loss: 74.05767835613244\n",
      "best performance 70.02777184362316%\n",
      "(Epoch 43 / 100) Training Accuracy: 0.7002777184362315\n",
      "(Iteration 20501 / 46800) loss: 73.3342115779536\n",
      "best performance 70.11322367015595%\n",
      "(Epoch 44 / 100) Training Accuracy: 0.7011322367015594\n",
      "(Iteration 21001 / 46800) loss: 73.65152093044038\n",
      "best performance 70.73274941251869%\n",
      "(Epoch 45 / 100) Training Accuracy: 0.7073274941251869\n",
      "(Iteration 21501 / 46800) loss: 67.29450050378979\n",
      "best performance 71.01046784875027%\n",
      "(Epoch 46 / 100) Training Accuracy: 0.7101046784875027\n",
      "best performance 71.30954924161504%\n",
      "(Epoch 47 / 100) Training Accuracy: 0.7130954924161504\n",
      "(Iteration 22001 / 46800) loss: 68.30048944013345\n",
      "best performance 71.37363811151464%\n",
      "(Epoch 48 / 100) Training Accuracy: 0.7137363811151464\n",
      "(Iteration 22501 / 46800) loss: 69.94174081347659\n",
      "best performance 71.97180089724418%\n",
      "(Epoch 49 / 100) Training Accuracy: 0.7197180089724418\n",
      "(Iteration 23001 / 46800) loss: 68.08023249823495\n",
      "best performance 72.18543046357617%\n",
      "(Epoch 50 / 100) Training Accuracy: 0.7218543046357616\n",
      "(Iteration 23501 / 46800) loss: 63.52897093794481\n",
      "best performance 72.95449690237129%\n",
      "(Epoch 51 / 100) Training Accuracy: 0.7295449690237129\n",
      "(Iteration 24001 / 46800) loss: 62.76249251197767\n",
      "best performance 73.06131168553728%\n",
      "(Epoch 52 / 100) Training Accuracy: 0.7306131168553728\n",
      "(Iteration 24501 / 46800) loss: 69.28328637815223\n",
      "best performance 73.29630420850246%\n",
      "(Epoch 53 / 100) Training Accuracy: 0.7329630420850246\n",
      "(Iteration 25001 / 46800) loss: 62.69055771845012\n",
      "best performance 73.70220038453323%\n",
      "(Epoch 54 / 100) Training Accuracy: 0.7370220038453322\n",
      "(Iteration 25501 / 46800) loss: 60.686281416967816\n",
      "best performance 73.87310403759881%\n",
      "(Epoch 55 / 100) Training Accuracy: 0.738731040375988\n",
      "(Iteration 26001 / 46800) loss: 52.69465922551391\n",
      "best performance 74.51399273659474%\n",
      "(Epoch 56 / 100) Training Accuracy: 0.7451399273659475\n",
      "(Iteration 26501 / 46800) loss: 59.55220242871335\n",
      "best performance 74.53535569322794%\n",
      "(Epoch 57 / 100) Training Accuracy: 0.7453535569322794\n",
      "(Iteration 27001 / 46800) loss: 53.95932520134877\n",
      "best performance 74.83443708609272%\n",
      "(Epoch 58 / 100) Training Accuracy: 0.7483443708609272\n",
      "(Iteration 27501 / 46800) loss: 63.9770009522324\n",
      "best performance 75.19760734885709%\n",
      "(Epoch 59 / 100) Training Accuracy: 0.7519760734885709\n",
      "(Iteration 28001 / 46800) loss: 60.4292973003561\n"
     ]
    },
    {
     "name": "stdout",
     "output_type": "stream",
     "text": [
      "best performance 75.71031830805384%\n",
      "(Epoch 60 / 100) Training Accuracy: 0.7571031830805384\n",
      "(Iteration 28501 / 46800) loss: 58.35133322518517\n",
      "best performance 75.75304422132024%\n",
      "(Epoch 61 / 100) Training Accuracy: 0.7575304422132023\n",
      "(Iteration 29001 / 46800) loss: 64.2088126002994\n",
      "best performance 76.0734885708182%\n",
      "(Epoch 62 / 100) Training Accuracy: 0.760734885708182\n",
      "best performance 76.20166631061738%\n",
      "(Epoch 63 / 100) Training Accuracy: 0.7620166631061739\n",
      "(Iteration 29501 / 46800) loss: 57.829320840493644\n",
      "best performance 76.43665883358257%\n",
      "(Epoch 64 / 100) Training Accuracy: 0.7643665883358257\n",
      "(Iteration 30001 / 46800) loss: 52.5172002275073\n",
      "best performance 76.45802179021577%\n",
      "(Epoch 65 / 100) Training Accuracy: 0.7645802179021577\n",
      "(Iteration 30501 / 46800) loss: 52.33016355660648\n",
      "best performance 76.54347361674856%\n",
      "(Epoch 66 / 100) Training Accuracy: 0.7654347361674856\n",
      "(Iteration 31001 / 46800) loss: 55.045307901565856\n",
      "best performance 76.79982909634694%\n",
      "(Epoch 67 / 100) Training Accuracy: 0.7679982909634694\n",
      "(Iteration 31501 / 46800) loss: 52.55420057872478\n",
      "best performance 77.50480666524247%\n",
      "(Epoch 68 / 100) Training Accuracy: 0.7750480666524246\n",
      "(Iteration 32001 / 46800) loss: 47.47307799418252\n",
      "(Epoch 69 / 100) Training Accuracy: 0.7733390301217689\n",
      "(Iteration 32501 / 46800) loss: 57.37195221075986\n",
      "best performance 77.71843623157444%\n",
      "(Epoch 70 / 100) Training Accuracy: 0.7771843623157445\n",
      "(Iteration 33001 / 46800) loss: 55.74585912217665\n",
      "(Epoch 71 / 100) Training Accuracy: 0.7759025849177527\n",
      "(Iteration 33501 / 46800) loss: 49.497112710169766\n",
      "best performance 77.99615466780602%\n",
      "(Epoch 72 / 100) Training Accuracy: 0.7799615466780603\n",
      "(Iteration 34001 / 46800) loss: 50.57300559755058\n",
      "(Epoch 73 / 100) Training Accuracy: 0.7782525101474044\n",
      "(Iteration 34501 / 46800) loss: 52.5595538941772\n",
      "best performance 78.2311471907712%\n",
      "(Epoch 74 / 100) Training Accuracy: 0.782311471907712\n",
      "(Iteration 35001 / 46800) loss: 56.57027307995628\n",
      "best performance 78.31659901730399%\n",
      "(Epoch 75 / 100) Training Accuracy: 0.7831659901730399\n",
      "(Iteration 35501 / 46800) loss: 44.73039538373168\n",
      "best performance 78.46613971373638%\n",
      "(Epoch 76 / 100) Training Accuracy: 0.7846613971373638\n",
      "(Iteration 36001 / 46800) loss: 52.6053198515815\n",
      "best performance 78.63704336680196%\n",
      "(Epoch 77 / 100) Training Accuracy: 0.7863704336680196\n",
      "(Iteration 36501 / 46800) loss: 52.55912261786938\n",
      "best performance 78.78658406323436%\n",
      "(Epoch 78 / 100) Training Accuracy: 0.7878658406323436\n",
      "best performance 79.10702841273233%\n",
      "(Epoch 79 / 100) Training Accuracy: 0.7910702841273233\n",
      "(Iteration 37001 / 46800) loss: 48.14749607418467\n",
      "(Epoch 80 / 100) Training Accuracy: 0.7910702841273233\n",
      "(Iteration 37501 / 46800) loss: 51.78851542538953\n",
      "best performance 79.29929502243111%\n",
      "(Epoch 81 / 100) Training Accuracy: 0.792992950224311\n",
      "(Iteration 38001 / 46800) loss: 50.746152301808834\n",
      "best performance 79.57701345866268%\n",
      "(Epoch 82 / 100) Training Accuracy: 0.7957701345866268\n",
      "(Iteration 38501 / 46800) loss: 62.19593424919945\n",
      "best performance 79.70519119846186%\n",
      "(Epoch 83 / 100) Training Accuracy: 0.7970519119846187\n",
      "(Iteration 39001 / 46800) loss: 40.03298151020398\n",
      "best performance 79.72655415509506%\n",
      "(Epoch 84 / 100) Training Accuracy: 0.7972655415509506\n",
      "(Iteration 39501 / 46800) loss: 48.02917021985421\n",
      "best performance 79.89745780816065%\n",
      "(Epoch 85 / 100) Training Accuracy: 0.7989745780816065\n",
      "(Iteration 40001 / 46800) loss: 47.32661088676695\n",
      "best performance 80.15381328775902%\n",
      "(Epoch 86 / 100) Training Accuracy: 0.8015381328775902\n",
      "(Iteration 40501 / 46800) loss: 45.0459293913829\n",
      "best performance 80.30335398419142%\n",
      "(Epoch 87 / 100) Training Accuracy: 0.8030335398419142\n",
      "(Iteration 41001 / 46800) loss: 41.310047062226424\n",
      "(Epoch 88 / 100) Training Accuracy: 0.8008972441785943\n",
      "(Iteration 41501 / 46800) loss: 50.79973034102416\n",
      "best performance 80.4315317239906%\n",
      "(Epoch 89 / 100) Training Accuracy: 0.804315317239906\n",
      "(Iteration 42001 / 46800) loss: 46.336274880972596\n",
      "best performance 80.53834650715659%\n",
      "(Epoch 90 / 100) Training Accuracy: 0.8053834650715659\n",
      "(Iteration 42501 / 46800) loss: 47.723696980879474\n",
      "best performance 80.68788720358899%\n",
      "(Epoch 91 / 100) Training Accuracy: 0.8068788720358898\n",
      "(Iteration 43001 / 46800) loss: 51.36252612082628\n",
      "(Epoch 92 / 100) Training Accuracy: 0.8064516129032258\n",
      "(Iteration 43501 / 46800) loss: 39.72305361490138\n",
      "best performance 80.79470198675497%\n",
      "(Epoch 93 / 100) Training Accuracy: 0.8079470198675497\n",
      "best performance 81.02969450972014%\n",
      "(Epoch 94 / 100) Training Accuracy: 0.8102969450972014\n",
      "(Iteration 44001 / 46800) loss: 52.35689600117466\n",
      "best performance 81.17923520615253%\n",
      "(Epoch 95 / 100) Training Accuracy: 0.8117923520615253\n",
      "(Iteration 44501 / 46800) loss: 51.7123613622809\n",
      "(Epoch 96 / 100) Training Accuracy: 0.8096560563982055\n",
      "(Iteration 45001 / 46800) loss: 46.580373076274704\n",
      "best performance 81.22196111941892%\n",
      "(Epoch 97 / 100) Training Accuracy: 0.8122196111941893\n",
      "(Iteration 45501 / 46800) loss: 48.741113431194194\n",
      "best performance 81.4783165990173%\n",
      "(Epoch 98 / 100) Training Accuracy: 0.8147831659901731\n",
      "(Iteration 46001 / 46800) loss: 49.50812243047323\n",
      "(Epoch 99 / 100) Training Accuracy: 0.8124332407605213\n",
      "(Iteration 46501 / 46800) loss: 50.73646748393223\n",
      "(Epoch 100 / 100) Training Accuracy: 0.814355906857509\n"
     ]
    }
   ],
   "source": [
    "%reload_ext autoreload\n",
    "\n",
    "# you can change the following parameters.\n",
    "D = 10 # input dimention\n",
    "H = 20 # hidden space dimention\n",
    "T = 50 # timesteps\n",
    "N = 10 # batch size\n",
    "max_epoch = 100 # max epoch size\n",
    "\n",
    "loss_func = temporal_softmax_loss()\n",
    "# you can change the cell_type between 'rnn' and 'lstm'.\n",
    "model = LanguageModelRNN(dataSize, D, H, cell_type='rnn')\n",
    "optimizer = Adam(model, 5e-4)\n",
    "\n",
    "data = { 'data_train': data_labels, 'labels_train': gt_labels }\n",
    "\n",
    "results = train_net(data, model, loss_func, optimizer, timesteps=T, batch_size=N, max_epochs=max_epoch, verbose=True)\n"
   ]
  },
  {
   "cell_type": "markdown",
   "metadata": {},
   "source": [
    "Simply run the following code block to check the loss and accuracy curve."
   ]
  },
  {
   "cell_type": "code",
   "execution_count": 63,
   "metadata": {},
   "outputs": [
    {
     "data": {
      "image/png": "[encoded data removed]",
      "text/plain": [
       "<Figure size 1080x864 with 2 Axes>"
      ]
     },
     "metadata": {
      "needs_background": "light"
     },
     "output_type": "display_data"
    }
   ],
   "source": [
    "%reload_ext autoreload\n",
    "\n",
    "opt_params, loss_hist, train_acc_hist = results\n",
    "\n",
    "# Plot the learning curves\n",
    "plt.subplot(2, 1, 1)\n",
    "plt.title('Training loss')\n",
    "loss_hist_ = loss_hist[1::100] # sparse the curve a bit\n",
    "plt.plot(loss_hist_, '-o')\n",
    "plt.xlabel('Iteration')\n",
    "\n",
    "plt.subplot(2, 1, 2)\n",
    "plt.title('Accuracy')\n",
    "plt.plot(train_acc_hist, '-o', label='Training')\n",
    "plt.xlabel('Epoch')\n",
    "plt.legend(loc='lower right')\n",
    "plt.gcf().set_size_inches(15, 12)\n",
    "\n",
    "plt.show()"
   ]
  },
  {
   "cell_type": "markdown",
   "metadata": {},
   "source": [
    "Now you can generate a text using the trained model. You can start from a specific word in the original text, such as `she`."
   ]
  },
  {
   "cell_type": "code",
   "execution_count": 64,
   "metadata": {},
   "outputs": [
    {
     "name": "stdout",
     "output_type": "stream",
     "text": [
      "cat were over the muggles started swarmin' around. he fell asleep as we was flyin' over bristol.\" dumbledore calmly. \"voldemort had powers and his head. professor mcgonagall gasped. \"lily and james... and dabbed at the potter's son, harry. but a tantrum and dundee have been phoning it had been broken at least twice. this man's name was albus dumbledore.  albus dumbledore didn't seem to realize he clicked it once, and twelve balls of blankets. inside, just visible, was you can't. i've been watching them  he dared tell her he'd have it was on his way back past them, clutching a large doughnut in his mind. to bed, he went to find the other end of the first thing he let himself into the other two. for a full minute the three of them stood and nighttime. mr. dursley loudly. the cat had had around its eyes. she, too, was dumbledore potter saying there were driven out of his mind by something else. as he looked simply too big to be allowed, and her good-for-nothing husband were as undursleyish as it was possible to her. i haven't blushed times he was saying, she was busy rummaging in his cloak, looking for something. but it had have that mr. dursley sat frozen in his armchair. shooting stars all over britain? owls flying by daylight? mysterious people that looked simply too big to be allowed, and her good-for-nothing husband were as undursleyish as it was possible to her. i haven't blushed\n"
     ]
    }
   ],
   "source": [
    "%reload_ext autoreload\n",
    "\n",
    "# you can change the generated text length below.\n",
    "text_length = 250\n",
    "\n",
    "idx = 0\n",
    "# you also can start from specific word. \n",
    "# since the words are all converted into lower case\n",
    "idx = int(np.where(np.asarray(word_list) == 'Cat'.lower())[0])\n",
    "\n",
    "# sample from the trained model\n",
    "words = model.sample(idx, text_length-1)\n",
    "\n",
    "# convert indices into words\n",
    "output = [ word_list[i] for i in words]\n",
    "print(' '.join(output))"
   ]
  },
  {
   "cell_type": "markdown",
   "metadata": {},
   "source": [
    "### Inline Question: Play around with different settings to get better understanding of its behavior and describe your observation. Make sure at least you cover the following points:\n",
    "* Vanilla RNN vs LSTM (you can set different time steps and test with longer texts.)\n",
    "* Problems in these approaches (there's no unique answer. just explain your own opinion from experiments.)\n",
    "#### Ans: We know that practically, it is difficult to model long term dependencies using Vanilla RNNs and that LSTMs do the task better. LSTMs retain information for extended periods of time, and easily learn these long-term dependencies. After training an RNN and LSTM for a longer text, different time steps and epochs, I found that the behavior was consistent for all cases, in that that the RNN has appeared to perform better (Accuracy: 79.2% for one case) than the LSTM network (Accuracy: ~64% for the same settings). Also, LSTMs were slow to train than the RNN network. This can be attributed to the fact that LSTM introduces the four gates, and hence increased number of parametere, which in turn results in increased computation time. RNNs suffer from vanishing and exploding gradient problems. They cannot model very long sequences if using tanh as an activation function, and are very unstable if they use relu as an activation function. In LSTMs, there is no multiplication with weight matrix W but rather element-wise multiplication with the forget gate which makes LSTMs less prone to the vanishing gradient problem."
   ]
  }
 ],
 "metadata": {
  "kernelspec": {
   "display_name": "CS599_2",
   "language": "python",
   "name": "cs599_2"
  },
  "language_info": {
   "codemirror_mode": {
    "name": "ipython",
    "version": 3
   },
   "file_extension": ".py",
   "mimetype": "text/x-python",
   "name": "python",
   "nbconvert_exporter": "python",
   "pygments_lexer": "ipython3",
   "version": "3.6.8"
  }
 },
 "nbformat": 4,
 "nbformat_minor": 1
}
